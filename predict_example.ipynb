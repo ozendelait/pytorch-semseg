{
 "cells": [
  {
   "cell_type": "code",
   "execution_count": 2,
   "metadata": {
    "scrolled": false
   },
   "outputs": [
    {
     "name": "stdout",
     "output_type": "stream",
     "text": [
      "env: CUDA_VISIBLE_DEVICES=0\n",
      "env: CITYSCAPES_DATASET=/workspace/data/cityscapes\n",
      "env: VISTAS_DATASET=/workspace/data/mapillary\n",
      "Read Input Image from : /workspace/local/data/playment_rs20_b5\n",
      "[1080, 1920]\n",
      "ICNETINFO:  (1080, 1920) 19 [3, 4, 6, 3] None\n"
     ]
    },
    {
     "data": {
      "application/vnd.jupyter.widget-view+json": {
       "model_id": "e39df4242b7c41709ec0748e2881e3da",
       "version_major": 2,
       "version_minor": 0
      },
      "text/plain": [
       "HBox(children=(IntProgress(value=0, description='Calculating predictions...', max=530, style=ProgressStyle(des…"
      ]
     },
     "metadata": {},
     "output_type": "display_data"
    },
    {
     "data": {
      "text/plain": [
       "0"
      ]
     },
     "execution_count": 2,
     "metadata": {},
     "output_type": "execute_result"
    }
   ],
   "source": [
    "%env CUDA_VISIBLE_DEVICES=0\n",
    "%env CITYSCAPES_DATASET=/workspace/data/cityscapes\n",
    "%env VISTAS_DATASET=/workspace/data/mapillary\n",
    "\n",
    "local_root = \"/workspace/local/\"\n",
    "ptsegm_root = local_root+\"pytorch-semseg/\"\n",
    "import os, sys\n",
    "sys.path.append(ptsegm_root)\n",
    "import test_callable\n",
    "m = local_root+'data/icnetNonBN_rs19_iou67p12.pkl'\n",
    "inp_dir =  local_root+'data/inp_dir'\n",
    "outp_dir =  local_root+'data/outp_dir'\n",
    "args = ['--version','railsem19','--inp_dim','1920x1080', '--dataset', 'railsem19_fixed', '--no-img_norm',\n",
    "        '--model_path', m, '--img_path', inp_dir, '--out_path', outp_dir]\n",
    "test_callable.main_test(args)"
   ]
  },
  {
   "cell_type": "markdown",
   "metadata": {},
   "source": [
    "misc.imread is considerably faster than imageio but got depricated (in addition to resize); downgrade to v1.1.0"
   ]
  },
  {
   "cell_type": "code",
   "execution_count": null,
   "metadata": {},
   "outputs": [],
   "source": [
    "!/usr/bin/yes | pip uninstall scipy\n",
    "!/usr/bin/yes | pip install -y scipy==1.1.0"
   ]
  }
 ],
 "metadata": {
  "kernelspec": {
   "display_name": "Python 3",
   "language": "python",
   "name": "python3"
  },
  "language_info": {
   "codemirror_mode": {
    "name": "ipython",
    "version": 3
   },
   "file_extension": ".py",
   "mimetype": "text/x-python",
   "name": "python",
   "nbconvert_exporter": "python",
   "pygments_lexer": "ipython3",
   "version": "3.6.9"
  }
 },
 "nbformat": 4,
 "nbformat_minor": 2
}
